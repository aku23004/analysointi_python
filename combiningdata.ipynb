{
 "cells": [
  {
   "cell_type": "code",
   "execution_count": 6,
   "metadata": {},
   "outputs": [],
   "source": [
    "import pandas as pd\n",
    "import numpy as np\n",
    "import matplotlib.pyplot as plt"
   ]
  },
  {
   "cell_type": "code",
   "execution_count": 16,
   "metadata": {},
   "outputs": [
    {
     "name": "stdout",
     "output_type": "stream",
     "text": [
      "   order_id item_name  quantity\n",
      "0         2    Burger         2\n",
      "1         1     Pizza         1\n",
      "2         3     Salad         3\n",
      "3         4      Soup         1\n",
      "4         6    Burger         3\n",
      "5         5       Wok         4\n"
     ]
    }
   ],
   "source": [
    "# Create Orders DataFrame\n",
    "\n",
    "portions_data1 = {'order_id': [2, 1, 3], 'item_name': ['Burger', 'Pizza', 'Salad'], 'quantity': [2, 1, 3]}\n",
    "orders_df = pd.DataFrame(portions_data1)\n",
    "\n",
    "# Create Portions DataFrame\n",
    "portions_data2 = {'order_id': [4, 6, 5], 'item_name': ['Soup', 'Burger', 'Wok'], 'quantity': [1, 3, 4]}\n",
    "portions_df = pd.DataFrame(portions_data2)\n",
    "\n",
    "print(pd.concat([orders_df, portions_df], axis=0, ignore_index=True))\n",
    "\n",
    "\n"
   ]
  },
  {
   "cell_type": "code",
   "execution_count": 18,
   "metadata": {},
   "outputs": [
    {
     "name": "stdout",
     "output_type": "stream",
     "text": [
      "   order_id customer_name  total_amount item_name  quantity\n",
      "0         1         Alice         25.50     Pizza         1\n",
      "1         2           Bob         30.20    Burger         2\n",
      "2         3       Charlie         15.75     Salad         3\n"
     ]
    }
   ],
   "source": [
    "# Create Orders DataFrame\n",
    "\n",
    "orders_data = {'order_id': [1, 2, 3], 'customer_name': ['Alice', 'Bob', 'Charlie'], 'total_amount': [25.5, 30.2, 15.75]}\n",
    "\n",
    "orders_df = pd.DataFrame(orders_data)\n",
    "\n",
    "# Create Portions DataFrame\n",
    "\n",
    "portions_data = {'order_id': [2, 1, 3], 'item_name': ['Burger', 'Pizza', 'Salad'], 'quantity': [2, 1, 3]}\n",
    "\n",
    "portions_df = pd.DataFrame(portions_data)\n",
    "\n",
    "# Merge DataFrames\n",
    "\n",
    "print(pd.merge(orders_df, portions_df, on='order_id'))"
   ]
  }
 ],
 "metadata": {
  "kernelspec": {
   "display_name": "Python 3",
   "language": "python",
   "name": "python3"
  },
  "language_info": {
   "codemirror_mode": {
    "name": "ipython",
    "version": 3
   },
   "file_extension": ".py",
   "mimetype": "text/x-python",
   "name": "python",
   "nbconvert_exporter": "python",
   "pygments_lexer": "ipython3",
   "version": "3.11.7"
  }
 },
 "nbformat": 4,
 "nbformat_minor": 2
}
