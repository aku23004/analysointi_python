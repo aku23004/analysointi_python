{
 "cells": [
  {
   "cell_type": "code",
   "execution_count": 1,
   "metadata": {},
   "outputs": [
    {
     "name": "stdout",
     "output_type": "stream",
     "text": [
      "('Table', 'Chair', 'Shelf', 'Sofa')\n",
      "('Table', 'Chair')\n",
      "Sofa\n"
     ]
    }
   ],
   "source": [
    "furniture = \"Table\", \"Chair\", \"Shelf\", \"Sofa\"\n",
    "\n",
    "print(furniture)\n",
    "\n",
    "print(furniture[:2])\n",
    "\n",
    "if \"Sofa\" in furniture:\n",
    "    print(\"Sofa\")"
   ]
  },
  {
   "cell_type": "code",
   "execution_count": 48,
   "metadata": {},
   "outputs": [
    {
     "name": "stdout",
     "output_type": "stream",
     "text": [
      "68 74 12 72 98\n",
      "324\n",
      "98\n"
     ]
    }
   ],
   "source": [
    "import random\n",
    "thrownDiceNumbers = [random.randint(1, 100) for _ in range(5)]\n",
    "print(*thrownDiceNumbers)\n",
    "\n",
    "print(sum(thrownDiceNumbers))\n",
    "\n",
    "print(max(thrownDiceNumbers))"
   ]
  }
 ],
 "metadata": {
  "kernelspec": {
   "display_name": "Python 3",
   "language": "python",
   "name": "python3"
  },
  "language_info": {
   "codemirror_mode": {
    "name": "ipython",
    "version": 3
   },
   "file_extension": ".py",
   "mimetype": "text/x-python",
   "name": "python",
   "nbconvert_exporter": "python",
   "pygments_lexer": "ipython3",
   "version": "3.11.6"
  }
 },
 "nbformat": 4,
 "nbformat_minor": 2
}
