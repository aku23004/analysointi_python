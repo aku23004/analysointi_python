{
 "cells": [
  {
   "cell_type": "code",
   "execution_count": 21,
   "metadata": {},
   "outputs": [
    {
     "name": "stdout",
     "output_type": "stream",
     "text": [
      "Printer App\n",
      "This app is made by: Aku I\n",
      "5\n",
      "The value of number1 is 5\n",
      "The value of number2 is 3\n",
      "5 * 3 = 15\n",
      "5 / 3 = 1.6666666666666667\n",
      "5 - 3 = 2\n"
     ]
    }
   ],
   "source": [
    "print(\"Printer App\")\n",
    "print(\"This app is made by: \" + creator)\n",
    "creator = \"Aku I\"\n",
    "\n",
    "number1 = int(5)\n",
    "number2 = int(3)\n",
    "multiplication = int()\n",
    "division = int()\n",
    "substraction = int()\n",
    "\n",
    "print(number1) #Tulostetaan määritetty numero1\n",
    "print(\"The value of number1 is\" , number1)\n",
    "print(\"The value of number2 is\" , number2)\n",
    "\n",
    "multiplication = number1 * number2\n",
    "print(number1 , \"*\" , number2 , \"=\" , multiplication)\n",
    "\n",
    "division = number1 / number2\n",
    "print(number1 , \"/\" , number2 , \"=\" , division)\n",
    "\n",
    "substraction = number1 - number2\n",
    "print(number1 , \"-\" , number2 , \"=\" , substraction)"
   ]
  }
 ],
 "metadata": {
  "kernelspec": {
   "display_name": "Python 3",
   "language": "python",
   "name": "python3"
  },
  "language_info": {
   "codemirror_mode": {
    "name": "ipython",
    "version": 3
   },
   "file_extension": ".py",
   "mimetype": "text/x-python",
   "name": "python",
   "nbconvert_exporter": "python",
   "pygments_lexer": "ipython3",
   "version": "3.12.0"
  }
 },
 "nbformat": 4,
 "nbformat_minor": 2
}
