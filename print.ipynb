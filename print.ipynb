{
 "cells": [
  {
   "cell_type": "markdown",
   "metadata": {},
   "source": [
    "1. Create a new Interactive Python Notebook.\n",
    "2. Print “Printer App”.\n",
    "3. Print “This app is made by:”.\n",
    "4. Declare a string typed variable. Name it creator. Assign your name as the value of the creator variable.\n",
    "5. Print the value of the creator. Try to get it on a same line as “This app is made by:”.\n",
    "6. Declare two numeric variables (for example integers). Name them as number1 and number2. Assign some values to the variables.\n",
    "7. First, try to print the value of number1. When done, comment the line.\n",
    "8. Print “The value of number1 is 5”. Of course 5 may be different depending what value you assigned for number1. Make sure everything works: change the value of number1 and then make sure the printing changes also. For example, if you changed it to 10, the printing should be “The value of number1 is 10”.\n",
    "9. Print “The value of number2 is 3”.\n",
    "10. Declare integer typed variable called multiplication\n",
    "11. Multiply number1 and number2 and assign the result to the multiplication variable.\n",
    "12. Print “5 * 2 = 10”, if your number1 was 5 and number2 2. Notice the spaces. Make sure everything works: Change the values of number1 and number2. The printing should change also.\n",
    "13. Repeat 10-12 for addition, division and substraction. Notice that to make division work right, you may have to change integer types to double.\n",
    "14. Make the code a bit clearer – move all the declarations of the variables to the top of the code."
   ]
  },
  {
   "cell_type": "code",
   "execution_count": 12,
   "metadata": {},
   "outputs": [
    {
     "name": "stdout",
     "output_type": "stream",
     "text": [
      "Printer App\n",
      "This app is made by: Aku I\n",
      "5\n",
      "The value of number1 is 5\n"
     ]
    }
   ],
   "source": [
    "print(\"Printer App\")\n",
    "print(\"This app is made by: \" + creator)\n",
    "creator = \"Aku I\"\n",
    "\n",
    "number1 = int(5)\n",
    "number2 = int(20)\n",
    "\n",
    "print(number1) #Tulostetaan määritetty numero1\n",
    "print(\"The value of number1 is\" , number1)"
   ]
  }
 ],
 "metadata": {
  "kernelspec": {
   "display_name": "Python 3",
   "language": "python",
   "name": "python3"
  },
  "language_info": {
   "codemirror_mode": {
    "name": "ipython",
    "version": 3
   },
   "file_extension": ".py",
   "mimetype": "text/x-python",
   "name": "python",
   "nbconvert_exporter": "python",
   "pygments_lexer": "ipython3",
   "version": "3.12.0"
  }
 },
 "nbformat": 4,
 "nbformat_minor": 2
}
