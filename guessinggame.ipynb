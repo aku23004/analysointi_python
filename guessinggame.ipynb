{
 "cells": [
  {
   "cell_type": "code",
   "execution_count": 6,
   "metadata": {},
   "outputs": [
    {
     "name": "stdout",
     "output_type": "stream",
     "text": [
      "Congratulation!\n"
     ]
    }
   ],
   "source": [
    "name = \"Kalle\"\n",
    "\n",
    "arvaus = input(\"Guess a name!\")\n",
    "for i in range(10):\n",
    "    if arvaus == name:\n",
    "     print(\"Congratulation!\")\n",
    "     break\n",
    "    else: \n",
    "     arvaus = input(\"Guess again!\")"
   ]
  }
 ],
 "metadata": {
  "kernelspec": {
   "display_name": "Python 3",
   "language": "python",
   "name": "python3"
  },
  "language_info": {
   "codemirror_mode": {
    "name": "ipython",
    "version": 3
   },
   "file_extension": ".py",
   "mimetype": "text/x-python",
   "name": "python",
   "nbconvert_exporter": "python",
   "pygments_lexer": "ipython3",
   "version": "3.11.6"
  }
 },
 "nbformat": 4,
 "nbformat_minor": 2
}
