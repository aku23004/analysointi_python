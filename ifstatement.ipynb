{
 "cells": [
  {
   "cell_type": "markdown",
   "metadata": {},
   "source": [
    "If condition is true, you can print for example “number 1 and number 2 are equal” (1a).\n",
    "1. Declare two variables number1 and number2. Assign values to the variables. You can (and have to) change the values during this exercise.\n",
    "a. Test if number1 is equal to number2.\n",
    "b. Test if number1 is greater than number2.\n",
    "c. Test if number1 is greater or equal to number2.\n",
    "d. Test if number1 is NOT equal to number2.\n",
    "2. Declare three variables number1, number2 and number3. Assign values to the variables. Change values to make the tests successfully.\n",
    "a. Test if all numbers are equal.\n",
    "b. Test if number1 and number2 are equal OR number2 and number3 are equal.\n",
    "c. Test if number1 is greater than number2 AND number1 is greater than number3.\n",
    "d. Test if number1 is greater than number2. If not, test if number2 is greater than number3.\n",
    "e. Test if number1 and number2 are equal. If not, test if number1 and number3 are equal.\n",
    "2. Make three string typed variable – for example name1, name2 and name3. Assign values.\n",
    "a. Test, if name1 and name2 are equal\n",
    "b. Test, if name1 and name2 are not equal\n",
    "c. Test, if name1 and name2 are equal. If not, test if name1 and name3 are equal"
   ]
  },
  {
   "cell_type": "code",
   "execution_count": 25,
   "metadata": {},
   "outputs": [
    {
     "name": "stdout",
     "output_type": "stream",
     "text": [
      "Number1 and number2 are not equal.\n",
      "Number1 is greater than number2.\n",
      "Number1 is greater than number2.\n",
      "Number1 and number2 are not equal.\n"
     ]
    }
   ],
   "source": [
    "number1 = int(10)\n",
    "number2 = int(7)\n",
    "\n",
    "#a\n",
    "if number1 == number2:\n",
    "    print(\"Number1 and number2 are equal.\")\n",
    "else:\n",
    "    print(\"Number1 and number2 are not equal.\")\n",
    "\n",
    "#b\n",
    "if number1 > number2:\n",
    "    print(\"Number1 is greater than number2.\")\n",
    "else:\n",
    "    print(\"Number1 is not greater than number2.\")\n",
    "\n",
    "#c\n",
    "if number1 > number2:\n",
    "    print(\"Number1 is greater than number2.\")\n",
    "elif number1 == number2:\n",
    "    print(\"Number1 and number2 are equal.\")\n",
    "else:\n",
    "    print(\"Number1 is not greater than number2 and they are not equal.\")\n",
    "\n",
    "#d\n",
    "if number1 != number2:\n",
    "    print(\"Number1 and number2 are not equal.\")\n",
    "else:\n",
    "    print(\"Number1 and number2 are equal.\")"
   ]
  },
  {
   "cell_type": "code",
   "execution_count": 26,
   "metadata": {},
   "outputs": [
    {
     "name": "stdout",
     "output_type": "stream",
     "text": [
      "Number1, number2 and number3 are not equal.\n",
      "Number1 and number2 are equal or number2 and number3 are equal\n",
      "Number1 is not greater than number2 and number3.\n",
      "Number2 is greater than number3\n",
      "Number1 and number2 are equal.\n"
     ]
    }
   ],
   "source": [
    "number1 = int(4)\n",
    "number2 = int(4)\n",
    "number3 = int(3)\n",
    "\n",
    "#a\n",
    "if number1 == number2 == number3:\n",
    "    print(\"Number1, number2 and number3 are equal.\")\n",
    "else:\n",
    "    print(\"Number1, number2 and number3 are not equal.\")\n",
    "\n",
    "#b\n",
    "if number1 == number2 or number2 == number3:\n",
    "    print(\"Number1 and number2 are equal or number2 and number3 are equal\")\n",
    "else:\n",
    "    print(\"Number1 and number2 are not equal or number2 and number3 are not equal\")\n",
    "\n",
    "#c\n",
    "if number1 > number2 and number1 > number3:\n",
    "    print(\"Number1 is greater than number2 and number3.\")\n",
    "else:\n",
    "    print(\"Number1 is not greater than number2 and number3.\")\n",
    "\n",
    "#d\n",
    "if number1 > number2:\n",
    "    print(\"Number1 is greater than number2.\")\n",
    "elif number2 > number3:\n",
    "    print(\"Number2 is greater than number3\")\n",
    "else:\n",
    "    print(\"Number1 is not greater than number2 and number2 are not greater than number3.\")\n",
    "\n",
    "#e\n",
    "if number1 == number2:\n",
    "    print(\"Number1 and number2 are equal.\")\n",
    "elif number1 == number3:\n",
    "    print(\"Number1 and number3 are equal.\")\n",
    "else:\n",
    "    print(\"Number1 and number2 are not equal and number1 and number3 are not equal.\")"
   ]
  },
  {
   "cell_type": "code",
   "execution_count": 28,
   "metadata": {},
   "outputs": [
    {
     "ename": "SyntaxError",
     "evalue": "unterminated string literal (detected at line 18) (2935775276.py, line 18)",
     "output_type": "error",
     "traceback": [
      "\u001b[1;36m  Cell \u001b[1;32mIn[28], line 18\u001b[1;36m\u001b[0m\n\u001b[1;33m    print(\"Name1 and name2 are not equal.)\u001b[0m\n\u001b[1;37m          ^\u001b[0m\n\u001b[1;31mSyntaxError\u001b[0m\u001b[1;31m:\u001b[0m unterminated string literal (detected at line 18)\n"
     ]
    }
   ],
   "source": [
    "#2. Make three string typed variable – for example name1, name2 and name3. Assign values.\n",
    "#a. Test, if name1 and name2 are equal\n",
    "#b. Test, if name1 and name2 are not equal\n",
    "#c. Test, if name1 and name2 are equal. If not, test if name1 and name3 are equal\n",
    "\n",
    "name1 = \"Liisa\"\n",
    "name2 = \"Lasse\"\n",
    "name3 = \"Liisa\"\n",
    "\n",
    "#a\n",
    "if name1 == name2:\n",
    "    print(\"Name1 and name2 are equal.\")\n",
    "else:\n",
    "    print(\"Name1 and name2 are not equal.\")\n",
    "\n",
    "#b\n",
    "if name1 != name2:\n",
    "    print(\"Name1 and name2 are not equal.)\n",
    "else:\n",
    "    print(\"Name1 and name2 are equal.\")\n",
    "\n",
    "#c\n",
    "if name1 == name2:\n",
    "    print(\"Name1 and name2 are equal.\")\n",
    "elif name1 == name3:\n",
    "    print(\"Name1 and name3 are equal.\")\n",
    "else:\n",
    "    print(\"Name1 is not equal to name2 or name3.\")"
   ]
  }
 ],
 "metadata": {
  "kernelspec": {
   "display_name": "Python 3",
   "language": "python",
   "name": "python3"
  },
  "language_info": {
   "codemirror_mode": {
    "name": "ipython",
    "version": 3
   },
   "file_extension": ".py",
   "mimetype": "text/x-python",
   "name": "python",
   "nbconvert_exporter": "python",
   "pygments_lexer": "ipython3",
   "version": "3.12.0"
  }
 },
 "nbformat": 4,
 "nbformat_minor": 2
}
