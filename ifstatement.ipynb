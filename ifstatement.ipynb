{
 "cells": [
  {
   "cell_type": "code",
   "execution_count": 25,
   "metadata": {},
   "outputs": [
    {
     "name": "stdout",
     "output_type": "stream",
     "text": [
      "Number1 and number2 are not equal.\n",
      "Number1 is greater than number2.\n",
      "Number1 is greater than number2.\n",
      "Number1 and number2 are not equal.\n"
     ]
    }
   ],
   "source": [
    "number1 = int(10)\n",
    "number2 = int(7)\n",
    "\n",
    "#a\n",
    "if number1 == number2:\n",
    "    print(\"Number1 and number2 are equal.\")\n",
    "else:\n",
    "    print(\"Number1 and number2 are not equal.\")\n",
    "\n",
    "#b\n",
    "if number1 > number2:\n",
    "    print(\"Number1 is greater than number2.\")\n",
    "else:\n",
    "    print(\"Number1 is not greater than number2.\")\n",
    "\n",
    "#c\n",
    "if number1 > number2:\n",
    "    print(\"Number1 is greater than number2.\")\n",
    "elif number1 == number2:\n",
    "    print(\"Number1 and number2 are equal.\")\n",
    "else:\n",
    "    print(\"Number1 is not greater than number2 and they are not equal.\")\n",
    "\n",
    "#d\n",
    "if number1 != number2:\n",
    "    print(\"Number1 and number2 are not equal.\")\n",
    "else:\n",
    "    print(\"Number1 and number2 are equal.\")"
   ]
  },
  {
   "cell_type": "code",
   "execution_count": 26,
   "metadata": {},
   "outputs": [
    {
     "name": "stdout",
     "output_type": "stream",
     "text": [
      "Number1, number2 and number3 are not equal.\n",
      "Number1 and number2 are equal or number2 and number3 are equal\n",
      "Number1 is not greater than number2 and number3.\n",
      "Number2 is greater than number3\n",
      "Number1 and number2 are equal.\n"
     ]
    }
   ],
   "source": [
    "number1 = int(4)\n",
    "number2 = int(4)\n",
    "number3 = int(3)\n",
    "\n",
    "#a\n",
    "if number1 == number2 == number3:\n",
    "    print(\"Number1, number2 and number3 are equal.\")\n",
    "else:\n",
    "    print(\"Number1, number2 and number3 are not equal.\")\n",
    "\n",
    "#b\n",
    "if number1 == number2 or number2 == number3:\n",
    "    print(\"Number1 and number2 are equal or number2 and number3 are equal\")\n",
    "else:\n",
    "    print(\"Number1 and number2 are not equal or number2 and number3 are not equal\")\n",
    "\n",
    "#c\n",
    "if number1 > number2 and number1 > number3:\n",
    "    print(\"Number1 is greater than number2 and number3.\")\n",
    "else:\n",
    "    print(\"Number1 is not greater than number2 and number3.\")\n",
    "\n",
    "#d\n",
    "if number1 > number2:\n",
    "    print(\"Number1 is greater than number2.\")\n",
    "elif number2 > number3:\n",
    "    print(\"Number2 is greater than number3\")\n",
    "else:\n",
    "    print(\"Number1 is not greater than number2 and number2 are not greater than number3.\")\n",
    "\n",
    "#e\n",
    "if number1 == number2:\n",
    "    print(\"Number1 and number2 are equal.\")\n",
    "elif number1 == number3:\n",
    "    print(\"Number1 and number3 are equal.\")\n",
    "else:\n",
    "    print(\"Number1 and number2 are not equal and number1 and number3 are not equal.\")"
   ]
  },
  {
   "cell_type": "code",
   "execution_count": 37,
   "metadata": {},
   "outputs": [
    {
     "name": "stdout",
     "output_type": "stream",
     "text": [
      "Name1 and name2 are not equal.\n",
      "Name1 and name2 are not equal.\n",
      "Name1 and name3 are equal.\n"
     ]
    }
   ],
   "source": [
    "name1 = \"Liisa\"\n",
    "name2 = \"Lasse\"\n",
    "name3 = \"Liisa\"\n",
    "\n",
    "#a\n",
    "if name1 == name2:\n",
    "    print(\"Name1 and name2 are equal.\")\n",
    "else:\n",
    "    print(\"Name1 and name2 are not equal.\")\n",
    "\n",
    "#b\n",
    "if name1 != name2:\n",
    "    print(\"Name1 and name2 are not equal.\")\n",
    "else:\n",
    "    print(\"Name1 and name2 are equal.\")\n",
    "\n",
    "#c\n",
    "if name1 == name2:\n",
    "    print(\"Name1 and name2 are equal.\")\n",
    "elif name1 == name3:\n",
    "    print(\"Name1 and name3 are equal.\")\n",
    "else:\n",
    "    print(\"Name1 is not equal to name2 or name3.\")"
   ]
  }
 ],
 "metadata": {
  "kernelspec": {
   "display_name": "Python 3",
   "language": "python",
   "name": "python3"
  },
  "language_info": {
   "codemirror_mode": {
    "name": "ipython",
    "version": 3
   },
   "file_extension": ".py",
   "mimetype": "text/x-python",
   "name": "python",
   "nbconvert_exporter": "python",
   "pygments_lexer": "ipython3",
   "version": "3.12.0"
  }
 },
 "nbformat": 4,
 "nbformat_minor": 2
}
